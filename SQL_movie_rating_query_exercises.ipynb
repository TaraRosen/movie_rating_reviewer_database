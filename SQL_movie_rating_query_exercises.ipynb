{
 "cells": [
  {
   "cell_type": "markdown",
   "metadata": {},
   "source": [
    "### Querying Movie-Rating_Reviewer Database"
   ]
  },
  {
   "cell_type": "markdown",
   "metadata": {},
   "source": [
    "You've started a new movie-rating website, and you've been collecting data on reviewers' ratings of various movies. There's not much data yet, but you can still try out some interesting queries. Here's the schema:\n",
    "\n",
    "Movie ( mID, title, year, director )\n",
    "English: There is a movie with ID number mID, a title, a release year, and a director.\n",
    "\n",
    "Reviewer ( rID, name )\n",
    "English: The reviewer with ID number rID has a certain name.\n",
    "\n",
    "Rating ( rID, mID, stars, ratingDate )\n",
    "English: The reviewer rID gave the movie mID a number of stars rating (1-5) on a certain ratingDate.\n",
    "\n",
    "Your queries will run over a small data set conforming to the schema. View the database. (You can also download the schema and data.)\n",
    "\n",
    "Instructions: Each problem asks you to write a query in SQL."
   ]
  },
  {
   "cell_type": "code",
   "execution_count": null,
   "metadata": {},
   "outputs": [],
   "source": [
    "# import libraries\n",
    "import pandas as pd\n",
    "import sqlite3"
   ]
  },
  {
   "cell_type": "code",
   "execution_count": null,
   "metadata": {},
   "outputs": [],
   "source": [
    "# connect to database\n",
    "conn = sqlite3.connect(':memory:')\n",
    "\n",
    "# create cursor object\n",
    "cur = conn.cursor()"
   ]
  },
  {
   "cell_type": "code",
   "execution_count": null,
   "metadata": {},
   "outputs": [],
   "source": [
    "# read in csv files to dataframe and write records \n",
    "# stored in the DataFrame to a SQL database\n",
    "\n",
    "df1 = pd.read_csv('movie.csv', )\n",
    "df1.to_sql('movie', con = conn, index=False)\n",
    "df2 = pd.read_csv('rating.csv', )\n",
    "df2.to_sql('rating', con = conn, index=False)\n",
    "df3 = pd.read_csv('reviewer.csv', )\n",
    "df3.to_sql('reviewer', con = conn, index=False)"
   ]
  },
  {
   "cell_type": "code",
   "execution_count": null,
   "metadata": {},
   "outputs": [],
   "source": [
    "# view movie dataframe\n",
    "\n",
    "cur.execute('''SELECT * FROM movie;''')            # sql query\n",
    "movie = pd.DataFrame(cur.fetchall())               # create dataframe from sql query\n",
    "movie.columns = [x[0] for x in cur.description]    # labels dataframe columns\n",
    "movie                                              # view dataframe"
   ]
  },
  {
   "cell_type": "code",
   "execution_count": null,
   "metadata": {},
   "outputs": [],
   "source": [
    "# view rating dataframe\n",
    "\n",
    "cur.execute('''SELECT * FROM rating;''')            # sql query\n",
    "rating = pd.DataFrame(cur.fetchall())               # create dataframe from sql query\n",
    "rating.columns = [x[0] for x in cur.description]    # labels dataframe columns\n",
    "rating                                              # view dataframe"
   ]
  },
  {
   "cell_type": "code",
   "execution_count": null,
   "metadata": {},
   "outputs": [],
   "source": [
    "# view reviewer dataframe\n",
    "\n",
    "cur.execute('''SELECT * FROM reviewer;''')            # sql query\n",
    "reviewer = pd.DataFrame(cur.fetchall())               # create dataframe from sql query\n",
    "reviewer.columns = [x[0] for x in cur.description]    # labels dataframe columns\n",
    "reviewer                                              # view dataframe"
   ]
  }
 ],
 "metadata": {
  "kernelspec": {
   "display_name": "Python 3",
   "language": "python",
   "name": "python3"
  },
  "language_info": {
   "codemirror_mode": {
    "name": "ipython",
    "version": 3
   },
   "file_extension": ".py",
   "mimetype": "text/x-python",
   "name": "python",
   "nbconvert_exporter": "python",
   "pygments_lexer": "ipython3",
   "version": "3.7.4"
  }
 },
 "nbformat": 4,
 "nbformat_minor": 2
}
